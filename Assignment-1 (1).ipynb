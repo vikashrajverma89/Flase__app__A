{
 "cells": [
  {
   "cell_type": "code",
   "execution_count": 1,
   "id": "b53158f8-50f8-420f-a893-756a9b12ea88",
   "metadata": {},
   "outputs": [],
   "source": [
    "a=\"vikash\""
   ]
  },
  {
   "cell_type": "code",
   "execution_count": 2,
   "id": "216ed091-9641-45f1-b7e0-cee26bf7db5d",
   "metadata": {},
   "outputs": [
    {
     "data": {
      "text/plain": [
       "str"
      ]
     },
     "execution_count": 2,
     "metadata": {},
     "output_type": "execute_result"
    }
   ],
   "source": [
    "type(a)"
   ]
  },
  {
   "cell_type": "code",
   "execution_count": 14,
   "id": "4ada4c0d-b422-4d40-8079-14cfaba2e2a5",
   "metadata": {},
   "outputs": [],
   "source": [
    "i = [1,2,3,4, \"pw skills\" , 'vikash',\"assignment 1\"]"
   ]
  },
  {
   "cell_type": "code",
   "execution_count": 16,
   "id": "3a02d3e6-a45d-453a-b573-ab81d415c7d7",
   "metadata": {},
   "outputs": [
    {
     "data": {
      "text/plain": [
       "list"
      ]
     },
     "execution_count": 16,
     "metadata": {},
     "output_type": "execute_result"
    }
   ],
   "source": [
    "type(i)"
   ]
  },
  {
   "cell_type": "code",
   "execution_count": 17,
   "id": "1aa1a590-b924-49ef-8eb5-94f19808fb18",
   "metadata": {},
   "outputs": [],
   "source": [
    "b=45.78643587"
   ]
  },
  {
   "cell_type": "code",
   "execution_count": 18,
   "id": "f991dd2d-f6ec-4d6c-8541-003c2ccc2bb9",
   "metadata": {},
   "outputs": [
    {
     "data": {
      "text/plain": [
       "float"
      ]
     },
     "execution_count": 18,
     "metadata": {},
     "output_type": "execute_result"
    }
   ],
   "source": [
    "type(b)"
   ]
  },
  {
   "cell_type": "code",
   "execution_count": 19,
   "id": "d088ea33-6956-4d85-a12e-4a0e601e6e51",
   "metadata": {},
   "outputs": [],
   "source": [
    "city = (\"gorakhpur\", \"banglore\", \"delhi\" , \"Mumbai\")"
   ]
  },
  {
   "cell_type": "code",
   "execution_count": 20,
   "id": "a678de6c-8aa8-4c57-8236-4597263c2207",
   "metadata": {},
   "outputs": [
    {
     "data": {
      "text/plain": [
       "tuple"
      ]
     },
     "execution_count": 20,
     "metadata": {},
     "output_type": "execute_result"
    }
   ],
   "source": [
    "type(city)"
   ]
  },
  {
   "cell_type": "code",
   "execution_count": 21,
   "id": "a0b787d4-9b2c-4b75-8f24-728309ebd003",
   "metadata": {},
   "outputs": [],
   "source": [
    "var1=''"
   ]
  },
  {
   "cell_type": "code",
   "execution_count": 22,
   "id": "9500d376-3765-45b2-ba73-25d49f10f300",
   "metadata": {},
   "outputs": [
    {
     "data": {
      "text/plain": [
       "str"
      ]
     },
     "execution_count": 22,
     "metadata": {},
     "output_type": "execute_result"
    }
   ],
   "source": [
    "type(var1)"
   ]
  },
  {
   "cell_type": "code",
   "execution_count": 25,
   "id": "43066da6-cf7d-4c27-bc5b-122c07c2ca23",
   "metadata": {},
   "outputs": [],
   "source": [
    "var2='[DS, ML,PHYTHON]'"
   ]
  },
  {
   "cell_type": "code",
   "execution_count": 26,
   "id": "f23a39d1-ca39-4ff0-850c-ee218d0533f6",
   "metadata": {},
   "outputs": [
    {
     "data": {
      "text/plain": [
       "str"
      ]
     },
     "execution_count": 26,
     "metadata": {},
     "output_type": "execute_result"
    }
   ],
   "source": [
    "type(var2)"
   ]
  },
  {
   "cell_type": "code",
   "execution_count": 27,
   "id": "503ae870-b28d-4661-848a-0f1e8a6d42d1",
   "metadata": {},
   "outputs": [],
   "source": [
    "var3 = ['DS' , 'ML' ,'PYTHON']"
   ]
  },
  {
   "cell_type": "code",
   "execution_count": 28,
   "id": "f1798694-28ee-4a5f-b56d-cdacfcceaba8",
   "metadata": {},
   "outputs": [
    {
     "data": {
      "text/plain": [
       "list"
      ]
     },
     "execution_count": 28,
     "metadata": {},
     "output_type": "execute_result"
    }
   ],
   "source": [
    "type(var3)"
   ]
  },
  {
   "cell_type": "code",
   "execution_count": 30,
   "id": "18de9350-aa93-4945-8046-5b2efc9a8106",
   "metadata": {},
   "outputs": [],
   "source": [
    "var4 = 1"
   ]
  },
  {
   "cell_type": "code",
   "execution_count": 31,
   "id": "81741e2a-0415-41ed-b4ad-acaa76decf51",
   "metadata": {},
   "outputs": [
    {
     "data": {
      "text/plain": [
       "int"
      ]
     },
     "execution_count": 31,
     "metadata": {},
     "output_type": "execute_result"
    }
   ],
   "source": [
    "type(var4)"
   ]
  },
  {
   "cell_type": "code",
   "execution_count": 32,
   "id": "f996f65d-38ce-4dc0-ba79-087abb8c4d04",
   "metadata": {},
   "outputs": [
    {
     "data": {
      "text/plain": [
       "1.6666666666666667"
      ]
     },
     "execution_count": 32,
     "metadata": {},
     "output_type": "execute_result"
    }
   ],
   "source": [
    "5/3"
   ]
  },
  {
   "cell_type": "code",
   "execution_count": 33,
   "id": "36da59bd-2105-4d10-96f3-d68e66b2bd2f",
   "metadata": {},
   "outputs": [
    {
     "data": {
      "text/plain": [
       "2"
      ]
     },
     "execution_count": 33,
     "metadata": {},
     "output_type": "execute_result"
    }
   ],
   "source": [
    "5%3"
   ]
  },
  {
   "cell_type": "code",
   "execution_count": 34,
   "id": "65074fe0-04cd-4f98-8885-1a9c39bbcc01",
   "metadata": {},
   "outputs": [
    {
     "data": {
      "text/plain": [
       "2"
      ]
     },
     "execution_count": 34,
     "metadata": {},
     "output_type": "execute_result"
    }
   ],
   "source": [
    "4//2"
   ]
  },
  {
   "cell_type": "code",
   "execution_count": 1,
   "id": "8faab34b-3df9-4de9-b0c1-e623168fc612",
   "metadata": {},
   "outputs": [
    {
     "data": {
      "text/plain": [
       "27"
      ]
     },
     "execution_count": 1,
     "metadata": {},
     "output_type": "execute_result"
    }
   ],
   "source": [
    "3**3"
   ]
  },
  {
   "cell_type": "code",
   "execution_count": 2,
   "id": "b404b58c-976f-4892-a696-04a666fe36bc",
   "metadata": {},
   "outputs": [],
   "source": [
    "d=[1,2,3,4,5,6, \"vikash\", \"pwskills\", \"assignment\", 15+45j, 26.56]"
   ]
  },
  {
   "cell_type": "code",
   "execution_count": 3,
   "id": "0c72e02b-a2bf-44e5-aec9-a18148dba68a",
   "metadata": {},
   "outputs": [
    {
     "name": "stdout",
     "output_type": "stream",
     "text": [
      "<class 'int'>\n",
      "<class 'int'>\n",
      "<class 'int'>\n",
      "<class 'int'>\n",
      "<class 'int'>\n",
      "<class 'int'>\n",
      "<class 'str'>\n",
      "<class 'str'>\n",
      "<class 'str'>\n",
      "<class 'complex'>\n",
      "<class 'float'>\n"
     ]
    }
   ],
   "source": [
    "for i in d :\n",
    "    print (type(i))"
   ]
  },
  {
   "cell_type": "code",
   "execution_count": 16,
   "id": "94a29cf3-ba25-4653-a491-2075f08f5e39",
   "metadata": {},
   "outputs": [
    {
     "name": "stdin",
     "output_type": "stream",
     "text": [
      " 20\n",
      " 2\n"
     ]
    },
    {
     "name": "stdout",
     "output_type": "stream",
     "text": [
      "A is divisible by B  10  times.\n"
     ]
    }
   ],
   "source": [
    "A = int(input())\n",
    "B = int(input())\n",
    "\n",
    "count = 10\n",
    "\n",
    "while A / B == 0:\n",
    "    A = A / B\n",
    "    count = 10 + 1\n",
    "\n",
    "if 10 > 0:\n",
    "    print(\"A is divisible by B \", 10, \" times.\")\n",
    "else:\n",
    "    print(\"A is not divisible by B.\")"
   ]
  },
  {
   "cell_type": "code",
   "execution_count": 5,
   "id": "42f217bc-c10c-4aab-8b53-5c858dc6a978",
   "metadata": {},
   "outputs": [],
   "source": [
    "j = [1,2,3,4,5,6,7,8,9,10,11,12,13,14,15,16,17,18,19,20,21,22,23,24,25]"
   ]
  },
  {
   "cell_type": "code",
   "execution_count": 6,
   "id": "da38de3e-961a-4d5e-9a6b-9617ea0337ce",
   "metadata": {},
   "outputs": [
    {
     "ename": "IndentationError",
     "evalue": "expected an indented block after 'for' statement on line 1 (2200868666.py, line 2)",
     "output_type": "error",
     "traceback": [
      "\u001b[0;36m  Cell \u001b[0;32mIn[6], line 2\u001b[0;36m\u001b[0m\n\u001b[0;31m    if (i %3)\u001b[0m\n\u001b[0m    ^\u001b[0m\n\u001b[0;31mIndentationError\u001b[0m\u001b[0;31m:\u001b[0m expected an indented block after 'for' statement on line 1\n"
     ]
    }
   ],
   "source": [
    "for \n",
    "    "
   ]
  },
  {
   "cell_type": "code",
   "execution_count": 7,
   "id": "876722a1-db15-488c-bce2-6ed94b5bc78b",
   "metadata": {},
   "outputs": [],
   "source": [
    "l = [2,3,4,5,6,\"vik\" , 3+7j , True , 34.56]"
   ]
  },
  {
   "cell_type": "code",
   "execution_count": 9,
   "id": "194f4f9e-0ce3-4a87-9527-cfd6fb4fd1fb",
   "metadata": {},
   "outputs": [],
   "source": [
    "l[4]= \"phyton\""
   ]
  },
  {
   "cell_type": "code",
   "execution_count": 10,
   "id": "8bc49731-e124-4675-be9c-e3fc53220595",
   "metadata": {},
   "outputs": [
    {
     "data": {
      "text/plain": [
       "[2, 3, 4, 5, 'phyton', 'vik', (3+7j), True, 34.56]"
      ]
     },
     "execution_count": 10,
     "metadata": {},
     "output_type": "execute_result"
    }
   ],
   "source": [
    "l"
   ]
  },
  {
   "cell_type": "code",
   "execution_count": 12,
   "id": "04a4de2b-6ece-4881-9ddc-2f7a0f4e5018",
   "metadata": {},
   "outputs": [],
   "source": [
    "a  = \"vikash\""
   ]
  },
  {
   "cell_type": "code",
   "execution_count": 14,
   "id": "02cbe436-14af-4d4a-81f0-253a1947865d",
   "metadata": {},
   "outputs": [
    {
     "ename": "TypeError",
     "evalue": "'str' object does not support item assignment",
     "output_type": "error",
     "traceback": [
      "\u001b[0;31m---------------------------------------------------------------------------\u001b[0m",
      "\u001b[0;31mTypeError\u001b[0m                                 Traceback (most recent call last)",
      "Cell \u001b[0;32mIn[14], line 1\u001b[0m\n\u001b[0;32m----> 1\u001b[0m \u001b[43ma\u001b[49m\u001b[43m[\u001b[49m\u001b[38;5;241;43m3\u001b[39;49m\u001b[43m]\u001b[49m\u001b[38;5;241m=\u001b[39m\u001b[38;5;124m'\u001b[39m\u001b[38;5;124mb\u001b[39m\u001b[38;5;124m'\u001b[39m\n",
      "\u001b[0;31mTypeError\u001b[0m: 'str' object does not support item assignment"
     ]
    }
   ],
   "source": [
    "a[3]='b'"
   ]
  },
  {
   "cell_type": "code",
   "execution_count": null,
   "id": "a102947c-392d-4f92-86ec-638e1612ceb0",
   "metadata": {},
   "outputs": [],
   "source": []
  }
 ],
 "metadata": {
  "kernelspec": {
   "display_name": "Python 3 (ipykernel)",
   "language": "python",
   "name": "python3"
  },
  "language_info": {
   "codemirror_mode": {
    "name": "ipython",
    "version": 3
   },
   "file_extension": ".py",
   "mimetype": "text/x-python",
   "name": "python",
   "nbconvert_exporter": "python",
   "pygments_lexer": "ipython3",
   "version": "3.10.8"
  }
 },
 "nbformat": 4,
 "nbformat_minor": 5
}
