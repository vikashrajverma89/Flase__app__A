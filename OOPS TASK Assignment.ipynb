{
 "cells": [
  {
   "cell_type": "code",
   "execution_count": 1,
   "id": "ec32a131-a243-46fb-9118-3a974ab93faf",
   "metadata": {},
   "outputs": [],
   "source": [
    "# Q1, Create a vehicle class with an init method having instance variables as name_of_vehicle, max_speed\n",
    "# and average_of_vehicle."
   ]
  },
  {
   "cell_type": "code",
   "execution_count": 2,
   "id": "4b581bf4-b288-41cc-a641-5d20590fd4c1",
   "metadata": {},
   "outputs": [
    {
     "data": {
      "text/plain": [
       "'Truck'"
      ]
     },
     "execution_count": 2,
     "metadata": {},
     "output_type": "execute_result"
    }
   ],
   "source": [
    "class Vehicle:\n",
    "    def __init__(self, name, max_speed, avg_speed) -> None:\n",
    "        self.name_of_vehicle = name\n",
    "        self.max_speed = max_speed\n",
    "        self.avg_speed = avg_speed\n",
    "\n",
    "\n",
    "v1 = Vehicle('Truck', 40, 32)\n",
    "v1.name_of_vehicle"
   ]
  },
  {
   "cell_type": "code",
   "execution_count": 3,
   "id": "133c3680-b1df-4b95-a623-32dddd60b152",
   "metadata": {},
   "outputs": [
    {
     "data": {
      "text/plain": [
       "40"
      ]
     },
     "execution_count": 3,
     "metadata": {},
     "output_type": "execute_result"
    }
   ],
   "source": [
    "v1.max_speed"
   ]
  },
  {
   "cell_type": "code",
   "execution_count": 4,
   "id": "a3176cce-4e79-480e-8b14-991ea0c9e3dd",
   "metadata": {},
   "outputs": [
    {
     "data": {
      "text/plain": [
       "32"
      ]
     },
     "execution_count": 4,
     "metadata": {},
     "output_type": "execute_result"
    }
   ],
   "source": [
    "v1.avg_speed"
   ]
  },
  {
   "cell_type": "markdown",
   "id": "34ac0ffe-5a9f-4e18-b19c-e3a6eb4ff68e",
   "metadata": {},
   "source": [
    "Q2. Create a child class car from the vehicle class created in Que 1, which will inherit the vehicle class.\n",
    "Create a method named seating_capacity which takes capacity as an argument and returns the name of\n",
    "the vehicle and its seating capacity."
   ]
  },
  {
   "cell_type": "code",
   "execution_count": 5,
   "id": "53a229d2-4319-4f57-b1dd-7ef8ea349ec8",
   "metadata": {},
   "outputs": [
    {
     "data": {
      "text/plain": [
       "'Innova -> 6'"
      ]
     },
     "execution_count": 5,
     "metadata": {},
     "output_type": "execute_result"
    }
   ],
   "source": [
    "class Car(Vehicle):\n",
    "    def seating_capacity(self, capacity) -> str:\n",
    "        self.capacity = capacity\n",
    "        return f'{self.name_of_vehicle} -> {capacity}'\n",
    "\n",
    "\n",
    "car1 = Car('Innova', 80, 70)\n",
    "\n",
    "car1.seating_capacity(6)"
   ]
  },
  {
   "cell_type": "code",
   "execution_count": 6,
   "id": "5808c161-b8f6-4392-9937-b5f270dd8d9e",
   "metadata": {},
   "outputs": [
    {
     "data": {
      "text/plain": [
       "80"
      ]
     },
     "execution_count": 6,
     "metadata": {},
     "output_type": "execute_result"
    }
   ],
   "source": [
    "car1.max_speed"
   ]
  },
  {
   "cell_type": "markdown",
   "id": "0eba618c-b8e0-4333-9666-d23a3ce9a4d4",
   "metadata": {},
   "source": [
    "Q3. What is multiple inheritance? Write a python code to demonstrate multiple inheritance."
   ]
  },
  {
   "cell_type": "code",
   "execution_count": 7,
   "id": "fc544ee5-1eb3-4d8e-a09a-1d47d386212b",
   "metadata": {
    "tags": []
   },
   "outputs": [],
   "source": [
    "# Inheritance is the mechanism to achieve the re-usability of code as one class(child class) can derive the properties of another class(parent class). It also provides transitivity ie. if class C inherits from P then all the sub-classes of C would also inherit from P.\n",
    "\n",
    "# Multiple Inheritance =\n",
    "# When a class is derived from more than one base class it is called multiple Inheritance. The derived class inherits all the features of the base case.\n",
    "\n"
   ]
  },
  {
   "cell_type": "code",
   "execution_count": 8,
   "id": "45d261f0-6487-480a-9e6d-d3bc541c3388",
   "metadata": {},
   "outputs": [],
   "source": [
    "class MusicSystem:\n",
    "    def play_music(self, music_name):\n",
    "        return f'Now Playing... \\n>>> {music_name} <<<'"
   ]
  },
  {
   "cell_type": "code",
   "execution_count": 9,
   "id": "68aaef35-4084-439d-acad-579713e27ca7",
   "metadata": {},
   "outputs": [
    {
     "name": "stdout",
     "output_type": "stream",
     "text": [
      "120000\n",
      "Now Playing... \n",
      ">>> shape of you by ed sheren <<<\n"
     ]
    }
   ],
   "source": [
    "class Scorpio(Car, MusicSystem):\n",
    "    def get_price(self) -> int:\n",
    "        return 1_20_000\n",
    "\n",
    "\n",
    "scorpio = Scorpio('SUV', 80, 74)\n",
    "print(scorpio.get_price())\n",
    "print(scorpio.play_music('shape of you by ed sheren'))"
   ]
  },
  {
   "cell_type": "markdown",
   "id": "eebdfb86-382f-427e-9381-aaf351b64b37",
   "metadata": {},
   "source": [
    "Q4. What are getter and setter in python? Create a class and create a getter and a setter method in this\n",
    "class."
   ]
  },
  {
   "cell_type": "code",
   "execution_count": 10,
   "id": "de60e282-2b19-487d-b7be-b3e3d0032331",
   "metadata": {},
   "outputs": [],
   "source": [
    "# In Python, getters and setters are not the same as those in other object-oriented programming languages. Basically, the main purpose of using getters and setters in object-oriented programs is to ensure data encapsulation. Private variables in python are not actually hidden fields like in other object oriented languages. Getters and Setters in python are often used when:\n",
    "\n",
    "# We use getters & setters to add validation logic around getting and setting a value.\n",
    "# To avoid direct access of a class field i.e. private variables cannot be accessed directly or modified by external user."
   ]
  },
  {
   "cell_type": "code",
   "execution_count": 11,
   "id": "11b23a86-78bc-42c4-abac-afd3c8009820",
   "metadata": {},
   "outputs": [
    {
     "name": "stdout",
     "output_type": "stream",
     "text": [
      "12 4\n"
     ]
    }
   ],
   "source": [
    "class Point:\n",
    "    def __init__(self, a, b) -> None:\n",
    "        self.__a = a\n",
    "        self.__b = b\n",
    "\n",
    "    def get_a(self):\n",
    "        return self.__a\n",
    "\n",
    "    def get_b(self):\n",
    "        return self.__b\n",
    "\n",
    "    def set_a(self, value):\n",
    "        self.__a = value if value > 0 else -1\n",
    "\n",
    "    def set_b(self, value):\n",
    "        self.__b = value if value > 0 else -1\n",
    "\n",
    "\n",
    "p1 = Point(2, 4)\n",
    "p1.set_a(12)\n",
    "print(p1.get_a(), p1.get_b())"
   ]
  },
  {
   "cell_type": "markdown",
   "id": "cd5590c9-b8eb-4e67-b7d3-3f66fe3a59d9",
   "metadata": {},
   "source": [
    "Q5.What is method overriding in python? Write a python code to demonstrate method overriding."
   ]
  },
  {
   "cell_type": "code",
   "execution_count": 12,
   "id": "be3fe2a8-428f-41c5-bf1b-9cc7cba36334",
   "metadata": {},
   "outputs": [],
   "source": [
    "# Method overriding is an ability of any object-oriented programming language that allows a subclass or child class to provide a specific implementation of a method that is already provided by one of its super-classes or parent classes. When a method in a subclass has the same name, same parameters or signature and same return type(or sub-type) as a method in its super-class, then the method in the subclass is said to override the method in the super-class."
   ]
  },
  {
   "cell_type": "code",
   "execution_count": 13,
   "id": "de4fc35c-59ef-49b8-bf49-9e77f216e927",
   "metadata": {},
   "outputs": [
    {
     "name": "stdout",
     "output_type": "stream",
     "text": [
      "Inside Class1\n",
      "Inside Class2\n"
     ]
    }
   ],
   "source": [
    "class Class1():\n",
    "    def __init__(self):\n",
    "        self.value = \"Inside Class1\"\n",
    "\n",
    "    def show(self):\n",
    "        print(self.value)\n",
    "\n",
    "\n",
    "class Class2(Class1):\n",
    "    def __init__(self):\n",
    "        self.value = \"Inside Class2\"\n",
    "\n",
    "    def show(self):\n",
    "        print(self.value)\n",
    "\n",
    "\n",
    "obj1 = Class1()\n",
    "obj2 = Class2()\n",
    "\n",
    "obj1.show()\n",
    "obj2.show()\n"
   ]
  },
  {
   "cell_type": "code",
   "execution_count": null,
   "id": "fed4c4cc-7e3c-43e1-a62b-6f7c922ef6b7",
   "metadata": {},
   "outputs": [],
   "source": []
  }
 ],
 "metadata": {
  "kernelspec": {
   "display_name": "Python 3 (ipykernel)",
   "language": "python",
   "name": "python3"
  },
  "language_info": {
   "codemirror_mode": {
    "name": "ipython",
    "version": 3
   },
   "file_extension": ".py",
   "mimetype": "text/x-python",
   "name": "python",
   "nbconvert_exporter": "python",
   "pygments_lexer": "ipython3",
   "version": "3.10.8"
  }
 },
 "nbformat": 4,
 "nbformat_minor": 5
}
