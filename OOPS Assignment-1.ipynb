{
 "cells": [
  {
   "cell_type": "markdown",
   "id": "4a477ac9-63b6-496c-874b-c5cd9594872e",
   "metadata": {},
   "source": [
    "Q1. Explain Class and Object with respect to Object-Oriented Programming. Give a suitable example."
   ]
  },
  {
   "cell_type": "markdown",
   "id": "6244d0e5-744f-48ad-8d1a-886c5ab1f52f",
   "metadata": {},
   "source": [
    "A class is considered as a blueprint of objects. We can think of the class as a sketch (prototype) of a house. It contains all the details about the floors, doors, windows, etc. Based on these descriptions we build the house. House is the object.\n",
    "\n",
    "Since many houses can be made from the same description, we can create many objects from a class.\n",
    "\n",
    "\n",
    "\n",
    "Python Objects\n",
    "An object is called an instance of a class."
   ]
  },
  {
   "cell_type": "code",
   "execution_count": 6,
   "id": "0c09e193-168b-412e-a9e4-d7d0f72ca254",
   "metadata": {},
   "outputs": [],
   "source": [
    "#create class\n",
    "\n",
    "class pwskills :\n",
    "    def __init__(self , name , course):\n",
    "        self.name = name\n",
    "        self.course = course\n",
    "        \n",
    "    def students_details(self):\n",
    "        print (self.name , self.course)\n",
    "    \n"
   ]
  },
  {
   "cell_type": "code",
   "execution_count": 7,
   "id": "f2a6fcd8-267c-455e-b44e-3aa9b33a1dee",
   "metadata": {},
   "outputs": [],
   "source": [
    "# Python Objects\n",
    "# An object is called an instance of a class.\n",
    "\n",
    "#create objects of class\n",
    "\n",
    "pw1 = pwskills(\"Vikash raj verma\" , \"Data sceince master\")"
   ]
  },
  {
   "cell_type": "code",
   "execution_count": 8,
   "id": "1b5e9674-fec0-4acc-84b6-e5c678309182",
   "metadata": {},
   "outputs": [
    {
     "data": {
      "text/plain": [
       "'Vikash raj verma'"
      ]
     },
     "execution_count": 8,
     "metadata": {},
     "output_type": "execute_result"
    }
   ],
   "source": [
    "pw1.name"
   ]
  },
  {
   "cell_type": "code",
   "execution_count": 9,
   "id": "dc1072e6-22ee-4c94-887c-a86b95f951e7",
   "metadata": {},
   "outputs": [
    {
     "data": {
      "text/plain": [
       "'Data sceince master'"
      ]
     },
     "execution_count": 9,
     "metadata": {},
     "output_type": "execute_result"
    }
   ],
   "source": [
    "pw1.course"
   ]
  },
  {
   "cell_type": "markdown",
   "id": "0c58c6a2-a734-4e10-b347-3a238bd8b769",
   "metadata": {},
   "source": [
    "Q2. Name the four pillars of OOPs."
   ]
  },
  {
   "cell_type": "markdown",
   "id": "95690582-e6b9-4b9d-884b-661a6f7b5525",
   "metadata": {},
   "source": [
    "Object-oriented programming (OOP) is a programming structure that enables developers to create and manipulate objects within a program. It is commonly used for developing applications and systems that are both maintainable and extensible, making it a popular choice for large-scale software development.\n",
    "\n",
    "The four pillars of OOPs are based on the four pillars of programming: abstraction, encapsulation, inheritance, and polymorphism. Each pillar provides a different function and helps developers organize their code for better management.\n",
    "\n",
    "An abstraction is a form of simplification and organization, allowing developers to focus on the essential parts of their code without focusing on the implementation details. It helps developers create code in a more efficient manner, while still providing the same functionality.\n",
    "\n",
    "Encapsulation is the process of combining data and codes into a single unit. It helps keep code organized, as well as helps prevent accidental data manipulation and changes.\n",
    "\n",
    "Inheritance is the process of creating new classes based on an existing class. It allows the developer to create subclasses that will inherit the attributes and behaviors of the parent class. This makes it easy to reuse code, making development faster and more efficient.\n",
    "\n",
    "Finally here in the Four pillars of OOPs, polymorphism is a form of abstraction that allows different classes to fulfill the same behavior. By taking advantage of polymorphism, developers can create code that is more easily maintained and more versatile."
   ]
  },
  {
   "cell_type": "markdown",
   "id": "8551c9d4-3f81-49d5-a475-aa2c7fd0b773",
   "metadata": {},
   "source": [
    "Q3. Explain why the __init__() function is used. Give a suitable example."
   ]
  },
  {
   "cell_type": "markdown",
   "id": "6889c5b0-7c8c-4e9c-9539-af3a9adac5f3",
   "metadata": {},
   "source": [
    "The __init__  function is called every time an object is created from a class. The __init__ method lets the class initialize the object’s attributes and serves no other purpose. It is only used within classes. "
   ]
  },
  {
   "cell_type": "code",
   "execution_count": 10,
   "id": "59981745-0040-4a88-87dc-ba7a0ca57183",
   "metadata": {},
   "outputs": [],
   "source": [
    "#let se an example\n",
    "\n",
    "class Dog:\n",
    "    def __init__(self , dog_bread ,dog_eye_colour):\n",
    "        \n",
    "        self.dog_bread = dog_bread\n",
    "        self.dog_eye_colour = dog_eye_colour"
   ]
  },
  {
   "cell_type": "code",
   "execution_count": 11,
   "id": "33fc61d1-61b9-4a2a-9b77-1d6abf4e5ed1",
   "metadata": {},
   "outputs": [],
   "source": [
    "d1 = Dog(\"germen shepherd\", \"brown\")"
   ]
  },
  {
   "cell_type": "markdown",
   "id": "a8cb96cf-a0fb-4ef2-951c-97eae11bf6b9",
   "metadata": {},
   "source": [
    " We next pass the arguments “german shepherd” and “brown,” which correspond to the respective parameters of the __init__ method of the class Dog."
   ]
  },
  {
   "cell_type": "markdown",
   "id": "f668e59f-8128-40c1-b270-6f2d77f70ce7",
   "metadata": {},
   "source": [
    "The __init__ method uses the keyword self to assign the values passed as arguments to the object attributes self.dog_breed and self.dog_eye_Color.\n",
    "\n"
   ]
  },
  {
   "cell_type": "code",
   "execution_count": 12,
   "id": "8f46d33a-1b41-48ed-9c9c-5a8440efdf19",
   "metadata": {},
   "outputs": [
    {
     "name": "stdout",
     "output_type": "stream",
     "text": [
      "This dog is a germen shepherd and its eyes are brown\n"
     ]
    }
   ],
   "source": [
    "#  To access an attribute of your brand new german shepherd object, you can use the dot (.) notation to get the value you need. A print statement helps us demonstrate how this works: --> --> -->\n",
    "\n",
    "\n",
    "print(\"This dog is a\",d1.dog_bread,\"and its eyes are\",d1.dog_eye_colour)"
   ]
  },
  {
   "cell_type": "markdown",
   "id": "13b1f6e7-c453-463b-a2fc-ac12e1c9319a",
   "metadata": {},
   "source": [
    "Q4. Why self is used in OOPs?"
   ]
  },
  {
   "cell_type": "markdown",
   "id": "a6e61295-467e-43a4-8af9-bb0f1c935bae",
   "metadata": {},
   "source": [
    "self represents the instance of the class. By using the “self”  we can access the attributes and methods of the class in python. It binds the attributes with the given arguments.\n",
    "\n",
    "The reason you need to use self. is because Python does not use the @ syntax to refer to instance attributes. Python decided to do methods in a way that makes the instance to which the method belongs be passed automatically, but not received automatically: the first parameter of methods is the instance the method is called on."
   ]
  },
  {
   "cell_type": "markdown",
   "id": "81578cb0-a21a-4752-8a45-c32dd2ed6ed1",
   "metadata": {},
   "source": [
    "Q5. What is inheritance? Give an example for each type of inheritance."
   ]
  },
  {
   "cell_type": "markdown",
   "id": "add5060d-5358-4f76-a8e6-880cea01b420",
   "metadata": {},
   "source": [
    "Inheritance allows us to define a class that inherits all the methods and properties from another class.\n",
    "\n",
    "Parent class is the class being inherited from, also called base class.\n",
    "\n",
    "Child class is the class that inherits from another class, also called derived class.\n",
    "\n",
    "\n",
    "there are 5 type of inheritance\n",
    "1.single\n",
    "2.multiple\n",
    "3.multilevel\n",
    "4.Hierarchical Inheritance\n",
    "5.Hybrid Inheritance"
   ]
  },
  {
   "cell_type": "code",
   "execution_count": 16,
   "id": "83cadefe-ca04-41f7-be3e-7e0e3f7525ff",
   "metadata": {},
   "outputs": [
    {
     "name": "stdout",
     "output_type": "stream",
     "text": [
      "John Doe\n"
     ]
    }
   ],
   "source": [
    "#1.single\n",
    "class Person:\n",
    "    def __init__(self, firstname, lastname):\n",
    "        self.firstname = firstname\n",
    "        self.lastname = lastname\n",
    "\n",
    "    def printname(self):\n",
    "        print(self.firstname, self.lastname)\n",
    "\n",
    "#Use the Person class to create an object, and then execute the printname method:\n",
    "\n",
    "x = Person(\"John\", \"Doe\")\n",
    "x.printname()\n",
    "    "
   ]
  },
  {
   "cell_type": "code",
   "execution_count": 17,
   "id": "7281410f-c00d-46ef-8c4d-e3f4a0d9b083",
   "metadata": {},
   "outputs": [],
   "source": [
    "#child class\n",
    "\n",
    "class Student(Person):\n",
    "    pass"
   ]
  },
  {
   "cell_type": "code",
   "execution_count": 18,
   "id": "0204bcce-71c1-4e9c-9e8d-789fd080f35d",
   "metadata": {},
   "outputs": [
    {
     "name": "stdout",
     "output_type": "stream",
     "text": [
      "Mike Olsen\n"
     ]
    }
   ],
   "source": [
    "x = Student(\"Mike\", \"Olsen\")\n",
    "x.printname()"
   ]
  },
  {
   "cell_type": "code",
   "execution_count": 19,
   "id": "297a4a77-09c1-4a5b-8817-d706b0038443",
   "metadata": {},
   "outputs": [
    {
     "name": "stdout",
     "output_type": "stream",
     "text": [
      "Father : RAM\n",
      "Mother : SITA\n"
     ]
    }
   ],
   "source": [
    "# 2.multiple\n",
    "# Python program to demonstrate\n",
    "# multiple inheritance\n",
    " \n",
    "# Base class1\n",
    "class Mother:\n",
    "    mothername = \"\"\n",
    " \n",
    "    def mother(self):\n",
    "        print(self.mothername)\n",
    " \n",
    " # Base class2\n",
    " \n",
    " \n",
    "class Father:\n",
    "    fathername = \"\"\n",
    " \n",
    "    def father(self):\n",
    "        print(self.fathername)\n",
    " \n",
    "  # Derived class\n",
    " \n",
    " \n",
    "class Son(Mother, Father):\n",
    "    def parents(self):\n",
    "        print(\"Father :\", self.fathername)\n",
    "        print(\"Mother :\", self.mothername)\n",
    " \n",
    " \n",
    "# Driver's code\n",
    "s1 = Son()\n",
    "s1.fathername = \"RAM\"\n",
    "s1.mothername = \"SITA\"\n",
    "s1.parents()\n"
   ]
  },
  {
   "cell_type": "code",
   "execution_count": null,
   "id": "ca1e6c1f-c202-4f7e-b61a-af950ae89b35",
   "metadata": {},
   "outputs": [],
   "source": []
  }
 ],
 "metadata": {
  "kernelspec": {
   "display_name": "Python 3 (ipykernel)",
   "language": "python",
   "name": "python3"
  },
  "language_info": {
   "codemirror_mode": {
    "name": "ipython",
    "version": 3
   },
   "file_extension": ".py",
   "mimetype": "text/x-python",
   "name": "python",
   "nbconvert_exporter": "python",
   "pygments_lexer": "ipython3",
   "version": "3.10.8"
  }
 },
 "nbformat": 4,
 "nbformat_minor": 5
}
