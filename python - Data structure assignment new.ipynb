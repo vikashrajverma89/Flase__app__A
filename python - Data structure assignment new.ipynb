{
 "cells": [
  {
   "cell_type": "code",
   "execution_count": 1,
   "id": "9238b665-e54f-4c2a-8244-cba65becdcbb",
   "metadata": {},
   "outputs": [
    {
     "data": {
      "text/plain": [
       "' Q1. How do you comment code in Python? What are the different types of comments? '"
      ]
     },
     "execution_count": 1,
     "metadata": {},
     "output_type": "execute_result"
    }
   ],
   "source": [
    "\"\"\" Q1. How do you comment code in Python? What are the different types of comments? \"\"\""
   ]
  },
  {
   "cell_type": "code",
   "execution_count": 29,
   "id": "5e42c362-7638-4ed0-9263-4fd944984ad7",
   "metadata": {},
   "outputs": [
    {
     "ename": "SyntaxError",
     "evalue": "invalid syntax (3291357985.py, line 2)",
     "output_type": "error",
     "traceback": [
      "\u001b[0;36m  Cell \u001b[0;32mIn[29], line 2\u001b[0;36m\u001b[0m\n\u001b[0;31m    there are two types of comments in python\u001b[0m\n\u001b[0m          ^\u001b[0m\n\u001b[0;31mSyntaxError\u001b[0m\u001b[0;31m:\u001b[0m invalid syntax\n"
     ]
    }
   ],
   "source": [
    "# this is the method to comment code in python\n",
    "there are two types of comments in python \n",
    "1 single line comment and 2 double line comment\n",
    "- 'Single line comment' \n",
    "# this is single line comment \n",
    "-'Multi line comment' \n",
    "> pyhton does not provide the option of multiline comments . however , there is different way through which we can write multiline comments. Pyhtons ignore the strings literals that are not assigned to a variable so we can use these strings literals as a comment .\n",
    "ex- ''' this is multiline comment Proramme \n",
    "to print Hi everyone '''\n",
    "print (\"Hello World\")"
   ]
  },
  {
   "cell_type": "code",
   "execution_count": null,
   "id": "a9295c9c-c20d-4991-a334-05ccbd0cad75",
   "metadata": {},
   "outputs": [],
   "source": [
    "Q2. What are variables in Python? How do you declare and assign values to variables?"
   ]
  },
  {
   "cell_type": "code",
   "execution_count": 4,
   "id": "ce431496-b24f-4486-95ff-0cffb107012e",
   "metadata": {},
   "outputs": [],
   "source": [
    "# A variable is a string of characters and numbers associated with a piece of information\n",
    "# we can assign value to variable by assignment operator \"=\" for example - l=24 , here l is variable and 24 is the value assign to l using assignment (=) operator."
   ]
  },
  {
   "cell_type": "code",
   "execution_count": null,
   "id": "025d7411-22d7-434f-87f9-3794783a2012",
   "metadata": {},
   "outputs": [],
   "source": [
    "Q3. How do you convert one data type to another in Python?"
   ]
  },
  {
   "cell_type": "code",
   "execution_count": 5,
   "id": "cbcf84de-3191-4ad2-9e91-ce5b87688aef",
   "metadata": {},
   "outputs": [],
   "source": [
    "l = 24"
   ]
  },
  {
   "cell_type": "code",
   "execution_count": 6,
   "id": "e1001f13-b4e2-4ab2-95eb-7bd30670c456",
   "metadata": {},
   "outputs": [
    {
     "data": {
      "text/plain": [
       "24"
      ]
     },
     "execution_count": 6,
     "metadata": {},
     "output_type": "execute_result"
    }
   ],
   "source": [
    "l"
   ]
  },
  {
   "cell_type": "code",
   "execution_count": 7,
   "id": "72e6034d-3cb7-4482-ab90-1b8e48218303",
   "metadata": {},
   "outputs": [
    {
     "data": {
      "text/plain": [
       "int"
      ]
     },
     "execution_count": 7,
     "metadata": {},
     "output_type": "execute_result"
    }
   ],
   "source": [
    "x=6\n",
    "type (x)"
   ]
  },
  {
   "cell_type": "code",
   "execution_count": 8,
   "id": "58f52914-6f8e-40a4-9d56-6f1c08e8babb",
   "metadata": {},
   "outputs": [],
   "source": [
    "y =str (x)"
   ]
  },
  {
   "cell_type": "code",
   "execution_count": 9,
   "id": "b1f41b34-41de-4550-a5d1-c7bef0ed8d91",
   "metadata": {},
   "outputs": [
    {
     "data": {
      "text/plain": [
       "str"
      ]
     },
     "execution_count": 9,
     "metadata": {},
     "output_type": "execute_result"
    }
   ],
   "source": [
    "type (y)"
   ]
  },
  {
   "cell_type": "code",
   "execution_count": null,
   "id": "011e6b5a-563e-449c-bf17-3a00bae99120",
   "metadata": {},
   "outputs": [],
   "source": [
    "Q4. How do you write and execute a Python script from the command line?"
   ]
  },
  {
   "cell_type": "markdown",
   "id": "290a6731-3e23-4e82-a14d-2fb834cb1d03",
   "metadata": {},
   "source": [
    "# Open a text editor and create a new file. Save it with a .py extension, for example, script.py. This will indicate that it is a Python script.\n",
    "\n",
    "# Write your Python code in the text file. For example, you can write a simple \"Hello, World!\" program:\n",
    "# print(\"Hello, World!\")\n",
    "\n",
    "# 3.Save the file after writing your code.\n",
    "\n",
    "# Open a command prompt or terminal on your computer.\n",
    "\n",
    "# Navigate to the directory where you saved the Python script using the cd command. For example, if the script is saved in the \"Documents\" folder, you can use the following command in the command prompt (Windows) or terminal (macOS/Linux):\n",
    "# cd Documents\n",
    "\n",
    "# 6.Once you are in the correct directory, you can execute the Python script using the python command followed by the name of the script file. For example:\n",
    "# python script.py\n",
    "\n",
    "# This will run the Python interpreter, which will read and execute the code in the script.py file."
   ]
  },
  {
   "cell_type": "code",
   "execution_count": null,
   "id": "76745a30-87c1-4478-9a09-bde811a36d2b",
   "metadata": {},
   "outputs": [],
   "source": [
    "Q5. Given a list my_list = [1, 2, 3, 4, 5], write the code to slice the list and obtain the sub-list [2, 3]."
   ]
  },
  {
   "cell_type": "code",
   "execution_count": 10,
   "id": "d000cfc7-c5aa-4700-a207-75779b1a3e4e",
   "metadata": {},
   "outputs": [],
   "source": [
    "my_list= [1, 2, 3, 4, 5]"
   ]
  },
  {
   "cell_type": "code",
   "execution_count": 11,
   "id": "44acd71e-7fe6-474b-8c95-e105c1f5e687",
   "metadata": {},
   "outputs": [
    {
     "data": {
      "text/plain": [
       "[2, 3]"
      ]
     },
     "execution_count": 11,
     "metadata": {},
     "output_type": "execute_result"
    }
   ],
   "source": [
    "my_list[1:3]"
   ]
  },
  {
   "cell_type": "code",
   "execution_count": null,
   "id": "2923a33b-7637-4f8e-8771-f3cf71cac3b2",
   "metadata": {},
   "outputs": [],
   "source": [
    "Q6. What is a complex number in mathematics, and how is it represented in Python?"
   ]
  },
  {
   "cell_type": "code",
   "execution_count": 12,
   "id": "7c7de098-63b2-41cc-a794-4f7ef0d2c3d7",
   "metadata": {},
   "outputs": [],
   "source": [
    "#in maths A Complex Number is a combination of a Real Number and an Imaginary Number for ex = 7+5i and also in python it is same\n",
    "i = 45+56j"
   ]
  },
  {
   "cell_type": "code",
   "execution_count": 13,
   "id": "3f0836ca-1bc0-49c1-9042-ded274f2ff7a",
   "metadata": {},
   "outputs": [
    {
     "data": {
      "text/plain": [
       "complex"
      ]
     },
     "execution_count": 13,
     "metadata": {},
     "output_type": "execute_result"
    }
   ],
   "source": [
    "type(i)"
   ]
  },
  {
   "cell_type": "code",
   "execution_count": 14,
   "id": "4ea9caf8-f978-4da1-a341-da561ea0f710",
   "metadata": {},
   "outputs": [
    {
     "data": {
      "text/plain": [
       "56.0"
      ]
     },
     "execution_count": 14,
     "metadata": {},
     "output_type": "execute_result"
    }
   ],
   "source": [
    "i.imag"
   ]
  },
  {
   "cell_type": "code",
   "execution_count": 15,
   "id": "ced67eb2-4d3e-45d3-b200-f33e684d65ba",
   "metadata": {},
   "outputs": [
    {
     "data": {
      "text/plain": [
       "45.0"
      ]
     },
     "execution_count": 15,
     "metadata": {},
     "output_type": "execute_result"
    }
   ],
   "source": [
    "i.real"
   ]
  },
  {
   "cell_type": "code",
   "execution_count": null,
   "id": "d5db3524-3ddb-4c74-b89c-4edc5526f109",
   "metadata": {},
   "outputs": [],
   "source": [
    "Q7. What is the correct way to declare a variable named age and assign the value 25 to it?"
   ]
  },
  {
   "cell_type": "code",
   "execution_count": 16,
   "id": "10ed23bd-b445-4ec3-86ce-0ae59a915260",
   "metadata": {},
   "outputs": [],
   "source": [
    "#correct way to declare variable to its value is to use assignment operator\n",
    "age = 24"
   ]
  },
  {
   "cell_type": "code",
   "execution_count": 17,
   "id": "a74a7afb-0476-4182-9b2d-b3e1182d569f",
   "metadata": {},
   "outputs": [
    {
     "data": {
      "text/plain": [
       "24"
      ]
     },
     "execution_count": 17,
     "metadata": {},
     "output_type": "execute_result"
    }
   ],
   "source": [
    "age"
   ]
  },
  {
   "cell_type": "code",
   "execution_count": null,
   "id": "237d381d-6035-4e4c-8ead-4f8d51fff26e",
   "metadata": {},
   "outputs": [],
   "source": [
    "Q8. Declare a variable named price and assign the value 9.99 to it. What data type does this variable\n",
    "belong to?"
   ]
  },
  {
   "cell_type": "code",
   "execution_count": 18,
   "id": "96141a20-e9ff-47e6-8906-bc309a03cb77",
   "metadata": {},
   "outputs": [],
   "source": [
    "price = 99.99"
   ]
  },
  {
   "cell_type": "code",
   "execution_count": 19,
   "id": "2c5b431e-3c6a-46da-8034-1c4c89559057",
   "metadata": {},
   "outputs": [
    {
     "data": {
      "text/plain": [
       "float"
      ]
     },
     "execution_count": 19,
     "metadata": {},
     "output_type": "execute_result"
    }
   ],
   "source": [
    "type(price)"
   ]
  },
  {
   "cell_type": "code",
   "execution_count": 20,
   "id": "e209fba2-cdae-4f9e-9f33-663c6a9fe5d9",
   "metadata": {},
   "outputs": [],
   "source": [
    "#data type of this variable is floating point number"
   ]
  },
  {
   "cell_type": "code",
   "execution_count": null,
   "id": "0d227d42-d27b-4965-b233-d5c0d83b16f9",
   "metadata": {},
   "outputs": [],
   "source": [
    "Q9. Create a variable named name and assign your full name to it as a string. How would you print the\n",
    "value of this variable?"
   ]
  },
  {
   "cell_type": "code",
   "execution_count": 21,
   "id": "4419e08c-d232-481d-bdc2-f4d4145672c2",
   "metadata": {},
   "outputs": [],
   "source": [
    "name = \"VIKASH RAJ VERMA\""
   ]
  },
  {
   "cell_type": "code",
   "execution_count": 22,
   "id": "46ac123f-d492-492d-b8a0-bbe9e9cd9c25",
   "metadata": {},
   "outputs": [
    {
     "data": {
      "text/plain": [
       "'VIKASH RAJ VERMA'"
      ]
     },
     "execution_count": 22,
     "metadata": {},
     "output_type": "execute_result"
    }
   ],
   "source": [
    "name"
   ]
  },
  {
   "cell_type": "code",
   "execution_count": 23,
   "id": "f7843497-e063-4e6d-bdd7-b8c2a989486f",
   "metadata": {},
   "outputs": [
    {
     "data": {
      "text/plain": [
       "str"
      ]
     },
     "execution_count": 23,
     "metadata": {},
     "output_type": "execute_result"
    }
   ],
   "source": [
    "type(name)"
   ]
  },
  {
   "cell_type": "code",
   "execution_count": 24,
   "id": "358154b0-5f8d-4a6f-93db-8d7cb7f918b6",
   "metadata": {},
   "outputs": [
    {
     "name": "stdout",
     "output_type": "stream",
     "text": [
      "VIKASH RAJ VERMA\n"
     ]
    }
   ],
   "source": [
    "print(name)"
   ]
  },
  {
   "cell_type": "code",
   "execution_count": 25,
   "id": "ecb35e89-9209-4082-9716-7a6378db0073",
   "metadata": {},
   "outputs": [],
   "source": [
    "#just using the print command we can print it"
   ]
  },
  {
   "cell_type": "code",
   "execution_count": 30,
   "id": "2451311c-a7e3-4125-b93f-38928b71a0dc",
   "metadata": {},
   "outputs": [],
   "source": [
    "p = \"HELLO,WORLD!\""
   ]
  },
  {
   "cell_type": "code",
   "execution_count": 33,
   "id": "a98d1ea5-734d-4146-b66f-5bd4e9f17254",
   "metadata": {},
   "outputs": [
    {
     "data": {
      "text/plain": [
       "'WORLD'"
      ]
     },
     "execution_count": 33,
     "metadata": {},
     "output_type": "execute_result"
    }
   ],
   "source": [
    "p [6:11]"
   ]
  },
  {
   "cell_type": "code",
   "execution_count": 28,
   "id": "2b1619a5-d737-4ee7-97ac-bc65cdf8d532",
   "metadata": {},
   "outputs": [],
   "source": [
    "is_student = True"
   ]
  },
  {
   "cell_type": "code",
   "execution_count": null,
   "id": "03d4a9c6-dd60-4ef5-8558-9d7be71da559",
   "metadata": {},
   "outputs": [],
   "source": []
  }
 ],
 "metadata": {
  "kernelspec": {
   "display_name": "Python 3 (ipykernel)",
   "language": "python",
   "name": "python3"
  },
  "language_info": {
   "codemirror_mode": {
    "name": "ipython",
    "version": 3
   },
   "file_extension": ".py",
   "mimetype": "text/x-python",
   "name": "python",
   "nbconvert_exporter": "python",
   "pygments_lexer": "ipython3",
   "version": "3.10.8"
  }
 },
 "nbformat": 4,
 "nbformat_minor": 5
}
