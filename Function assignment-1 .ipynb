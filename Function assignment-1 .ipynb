{
 "cells": [
  {
   "cell_type": "markdown",
   "id": "5d828fc0-cfc6-4f8e-9328-5eed6e746fe0",
   "metadata": {},
   "source": [
    "#### Q1. Which keyword is used to create a function? Create a function to return a list of odd numbers in the\n",
    "range of 1 to 25."
   ]
  },
  {
   "cell_type": "code",
   "execution_count": 7,
   "id": "9816b57b-6216-417a-a3f3-1f344007f954",
   "metadata": {},
   "outputs": [],
   "source": [
    "def odd_num():\n",
    "    l = []\n",
    "    for i in range(1,25+1):\n",
    "        if i % 2 !=0:\n",
    "            l.append(i)\n",
    "    return l"
   ]
  },
  {
   "cell_type": "code",
   "execution_count": 8,
   "id": "9963fe61-65d1-4256-9f85-bc8b890e43ed",
   "metadata": {},
   "outputs": [
    {
     "data": {
      "text/plain": [
       "[1, 3, 5, 7, 9, 11, 13, 15, 17, 19, 21, 23, 25]"
      ]
     },
     "execution_count": 8,
     "metadata": {},
     "output_type": "execute_result"
    }
   ],
   "source": [
    "odd_num()"
   ]
  },
  {
   "cell_type": "markdown",
   "id": "f1a2abed-20b4-4777-9359-ab4ec178cdc8",
   "metadata": {},
   "source": [
    "#### Q2. Why *args and **kwargs is used in some functions? Create a function each for *args and **kwargs\n",
    "#### to demonstrate their use."
   ]
  },
  {
   "cell_type": "code",
   "execution_count": 9,
   "id": "e7aa7a33-08b7-4489-8128-d8602c2fc89b",
   "metadata": {},
   "outputs": [],
   "source": [
    "# In Python, we can pass a variable number of arguments to a function using special symbols. There are two special symbols:\n",
    "\n",
    "# *args (Non Keyword Arguments)\n",
    "# **kwargs (Keyword Arguments)\n",
    "# We use *args and **kwargs as an argument when we are unsure about the number of arguments to pass in the functions."
   ]
  },
  {
   "cell_type": "code",
   "execution_count": null,
   "id": "b456ead2-bc55-4435-ad9f-638afc6dcd0a",
   "metadata": {},
   "outputs": [],
   "source": [
    "# Python has *args which allow us to pass the variable number of non keyword arguments to function.\n",
    "\n",
    "# In the function, we should use an asterisk * before the parameter name to pass variable length arguments.The arguments are passed as a tuple and these passed arguments make tuple inside the function with same name as the parameter excluding asterisk *."
   ]
  },
  {
   "cell_type": "code",
   "execution_count": null,
   "id": "52d2c3d2-741b-4b5f-bc32-6d2d855a7129",
   "metadata": {},
   "outputs": [],
   "source": [
    "# Python passes variable length non keyword argument to function using *args but we cannot use this to pass keyword argument. For this problem Python has got a solution called **kwargs, it allows us to pass the variable length of keyword arguments to the function.\n",
    "\n",
    "# In the function, we use the double asterisk ** before the parameter name to denote this type of argument. The arguments are passed as a dictionary and these arguments make a dictionary inside function with name same as the parameter excluding double asterisk **."
   ]
  },
  {
   "cell_type": "code",
   "execution_count": 10,
   "id": "14653bbb-67ce-4e89-87bd-5fec2bc6bcb8",
   "metadata": {},
   "outputs": [
    {
     "data": {
      "text/plain": [
       "14"
      ]
     },
     "execution_count": 10,
     "metadata": {},
     "output_type": "execute_result"
    }
   ],
   "source": [
    "#args example\n",
    "def return_sum(*number: int):\n",
    "    result = 0\n",
    "    for i in number:\n",
    "        result += i\n",
    "    return result\n",
    "\n",
    "return_sum(2, 3, 4, 5)"
   ]
  },
  {
   "cell_type": "code",
   "execution_count": 12,
   "id": "f382c3fe-f4d5-42cb-9678-540800d08bb2",
   "metadata": {},
   "outputs": [
    {
     "name": "stdout",
     "output_type": "stream",
     "text": [
      "Sum: 8\n",
      "Sum: 22\n",
      "Sum: 17\n"
     ]
    }
   ],
   "source": [
    "def adder(*num):\n",
    "    sum = 0\n",
    "    \n",
    "    for i in num:\n",
    "        sum = sum + i\n",
    "\n",
    "    print(\"Sum:\",sum)\n",
    "\n",
    "adder(3,5)\n",
    "adder(4,5,6,7)\n",
    "adder(1,2,3,5,6)"
   ]
  },
  {
   "cell_type": "code",
   "execution_count": 13,
   "id": "689decc4-f451-4034-8bac-d9d9563f8f85",
   "metadata": {},
   "outputs": [
    {
     "name": "stdout",
     "output_type": "stream",
     "text": [
      "You enter 3 argument.\n",
      "Your Arguments are :\n",
      "('first', 1)\n",
      "('sec', 12)\n",
      "('third', 'arv')\n"
     ]
    }
   ],
   "source": [
    "#**kwargs example\n",
    "def myfunc(**kwargs):\n",
    "    print('You enter', len(kwargs), 'argument.')\n",
    "    print('Your Arguments are :')\n",
    "\n",
    "    for i in kwargs:\n",
    "        print((i, kwargs[i]))\n",
    "\n",
    "myfunc(first=1, sec=12, third='arv')"
   ]
  },
  {
   "cell_type": "code",
   "execution_count": 15,
   "id": "9997f936-32b7-4dea-8ca5-c05182c44bbe",
   "metadata": {},
   "outputs": [
    {
     "name": "stdout",
     "output_type": "stream",
     "text": [
      "\n",
      "Data type of argument: <class 'dict'>\n",
      "Firstname is Vikash\n",
      "Lastname is Raj Verma\n",
      "Age is 25\n",
      "Phone is 1234567890\n",
      "\n",
      "Data type of argument: <class 'dict'>\n",
      "Firstname is John\n",
      "Lastname is Wood\n",
      "Email is johnwood@nomail.com\n",
      "Country is Wakanda\n",
      "Age is 25\n",
      "Phone is 9876543210\n"
     ]
    }
   ],
   "source": [
    "def intro(**data):\n",
    "    print(\"\\nData type of argument:\",type(data))\n",
    "\n",
    "    for key, value in data.items():\n",
    "        print(\"{} is {}\".format(key,value))\n",
    "\n",
    "intro(Firstname=\"Vikash\", Lastname=\"Raj Verma\", Age=25, Phone=1234567890)\n",
    "intro(Firstname=\"John\", Lastname=\"Wood\", Email=\"johnwood@nomail.com\", Country=\"Wakanda\", Age=25, Phone=9876543210)"
   ]
  },
  {
   "cell_type": "markdown",
   "id": "cde93972-f24b-449a-a060-0582e3f8c6ee",
   "metadata": {},
   "source": [
    "#### Q3. What is an iterator in python? Name the method used to initialise the iterator object and the method\n",
    "#### used for iteration. Use these methods to print the first five elements of the given list [2, 4, 6, 8, 10, 12, 14,\n",
    "#### 16, 18, 20]."
   ]
  },
  {
   "cell_type": "code",
   "execution_count": 1,
   "id": "270cbf46-309b-4b2c-8270-921d9f2df638",
   "metadata": {},
   "outputs": [],
   "source": [
    "# Iterator stores only one items at a time through which it can optimize for space in python.\n",
    "\n",
    "# Iterator is an object through which you can fecth items one by one with next() buitlin function in python"
   ]
  },
  {
   "cell_type": "markdown",
   "id": "00cc05c6-195c-4d18-9fab-afebe3c61d57",
   "metadata": {},
   "source": [
    "#### For explaination :"
   ]
  },
  {
   "cell_type": "code",
   "execution_count": 2,
   "id": "e0db8146-11f7-40fa-8ca1-554d6c3c0974",
   "metadata": {},
   "outputs": [],
   "source": [
    "# String is not an iterator by default but you can make it by pass it into another builtin function iter(). After storing that string's iterator object in a variable you can fetch characters of string with next() function."
   ]
  },
  {
   "cell_type": "code",
   "execution_count": 3,
   "id": "d3dd2d1d-169f-444a-8cce-242f772f7c28",
   "metadata": {},
   "outputs": [],
   "source": [
    "l=[2, 4, 6, 8, 10, 12, 14,16, 18, 20]"
   ]
  },
  {
   "cell_type": "code",
   "execution_count": 4,
   "id": "9cb253b4-02a3-4c89-a89c-9d2a3f28c455",
   "metadata": {},
   "outputs": [
    {
     "ename": "TypeError",
     "evalue": "'list' object is not an iterator",
     "output_type": "error",
     "traceback": [
      "\u001b[0;31m---------------------------------------------------------------------------\u001b[0m",
      "\u001b[0;31mTypeError\u001b[0m                                 Traceback (most recent call last)",
      "Cell \u001b[0;32mIn[4], line 1\u001b[0m\n\u001b[0;32m----> 1\u001b[0m \u001b[38;5;28;43mnext\u001b[39;49m\u001b[43m(\u001b[49m\u001b[43ml\u001b[49m\u001b[43m)\u001b[49m\n",
      "\u001b[0;31mTypeError\u001b[0m: 'list' object is not an iterator"
     ]
    }
   ],
   "source": [
    "next(l)"
   ]
  },
  {
   "cell_type": "code",
   "execution_count": 5,
   "id": "fe2aeff6-4112-436a-876b-4b94127b2466",
   "metadata": {},
   "outputs": [],
   "source": [
    "l1=iter(l)"
   ]
  },
  {
   "cell_type": "code",
   "execution_count": 6,
   "id": "8167b521-1c59-40fe-b333-5834aa1833a8",
   "metadata": {},
   "outputs": [
    {
     "data": {
      "text/plain": [
       "2"
      ]
     },
     "execution_count": 6,
     "metadata": {},
     "output_type": "execute_result"
    }
   ],
   "source": [
    "next(l1)"
   ]
  },
  {
   "cell_type": "code",
   "execution_count": 7,
   "id": "dfbcdff2-a74c-4417-9f0e-8c6fe1ce7369",
   "metadata": {},
   "outputs": [
    {
     "data": {
      "text/plain": [
       "4"
      ]
     },
     "execution_count": 7,
     "metadata": {},
     "output_type": "execute_result"
    }
   ],
   "source": [
    "next(l1)"
   ]
  },
  {
   "cell_type": "code",
   "execution_count": 8,
   "id": "c5ba1dee-9cd5-47d6-8136-c79ee980c56e",
   "metadata": {},
   "outputs": [
    {
     "data": {
      "text/plain": [
       "6"
      ]
     },
     "execution_count": 8,
     "metadata": {},
     "output_type": "execute_result"
    }
   ],
   "source": [
    "next(l1)"
   ]
  },
  {
   "cell_type": "code",
   "execution_count": 9,
   "id": "19f956fa-e418-48ff-bfdf-ce45fd803b71",
   "metadata": {},
   "outputs": [
    {
     "data": {
      "text/plain": [
       "8"
      ]
     },
     "execution_count": 9,
     "metadata": {},
     "output_type": "execute_result"
    }
   ],
   "source": [
    "next(l1)"
   ]
  },
  {
   "cell_type": "code",
   "execution_count": 10,
   "id": "0507ab6e-ffaa-4798-b59c-b525505016cc",
   "metadata": {},
   "outputs": [
    {
     "data": {
      "text/plain": [
       "10"
      ]
     },
     "execution_count": 10,
     "metadata": {},
     "output_type": "execute_result"
    }
   ],
   "source": [
    "next(l1)"
   ]
  },
  {
   "cell_type": "markdown",
   "id": "e40e63a8-1cc5-48d6-ae3e-6f2ba2a6f113",
   "metadata": {},
   "source": [
    "#### Q4. What is a generator function in python? Why yield keyword is used? Give an example of a generator function."
   ]
  },
  {
   "cell_type": "code",
   "execution_count": 11,
   "id": "439af3b9-40ed-4945-a7f3-93e1eda5e3b2",
   "metadata": {},
   "outputs": [],
   "source": [
    "# Generator function is used to generate values on the basis of calling/running. It produces values whenever it will called in the program, it does not produce only a single and same value.\n",
    "\n",
    "# yeild keyword is used to generate values in generator functions. The fuction pauses its proccess when yeild keyword runs/called and then starts from there in next proccess."
   ]
  },
  {
   "cell_type": "code",
   "execution_count": 12,
   "id": "997527fe-5ef2-486a-8ff2-ccd73173d97b",
   "metadata": {},
   "outputs": [
    {
     "name": "stdout",
     "output_type": "stream",
     "text": [
      "2\n",
      "4\n",
      "6\n",
      "8\n",
      "10\n",
      "12\n",
      "14\n",
      "16\n",
      "18\n",
      "20\n"
     ]
    }
   ],
   "source": [
    "def generate_even_number():\n",
    "    i = 1\n",
    "    while True:\n",
    "        if i % 2 == 0:\n",
    "            yield i\n",
    "        i += 1\n",
    "\n",
    "even_nums = generate_even_number()\n",
    "for _ in range(10):\n",
    "    print(next(even_nums))"
   ]
  },
  {
   "cell_type": "markdown",
   "id": "11b57b46-7972-4534-8f59-8b228db2fda5",
   "metadata": {},
   "source": [
    "#### Q5. Create a generator function for prime numbers less than 1000. Use the next() method to print the first 20 prime numbers."
   ]
  },
  {
   "cell_type": "code",
   "execution_count": 13,
   "id": "528d7001-8050-408b-b750-0fd359e4e4b0",
   "metadata": {},
   "outputs": [
    {
     "name": "stdout",
     "output_type": "stream",
     "text": [
      "2\n",
      "3\n",
      "5\n",
      "7\n",
      "11\n",
      "13\n",
      "17\n",
      "19\n",
      "23\n",
      "29\n",
      "31\n",
      "37\n",
      "41\n",
      "43\n",
      "47\n",
      "53\n",
      "59\n",
      "61\n",
      "67\n",
      "71\n"
     ]
    }
   ],
   "source": [
    "def prime_numbers():\n",
    "    yield 2\n",
    "\n",
    "    for num in range(3, 1000, 2):\n",
    "        for i in range(3, num, 2):\n",
    "            if num % i == 0:\n",
    "                break\n",
    "        else:\n",
    "            yield num\n",
    "\n",
    "prime_gen = prime_numbers()\n",
    "for _ in range(20):\n",
    "    print(next(prime_gen))"
   ]
  },
  {
   "cell_type": "markdown",
   "id": "17b2f66d-a475-4785-82d7-17156b7b54de",
   "metadata": {},
   "source": [
    "#### Q6. Write a python program to print the first 10 Fibonacci numbers using a while loop."
   ]
  },
  {
   "cell_type": "code",
   "execution_count": 14,
   "id": "c09ad4c2-84d7-477f-bbde-e1e43f7b8187",
   "metadata": {},
   "outputs": [
    {
     "name": "stdout",
     "output_type": "stream",
     "text": [
      "0\n",
      "1\n",
      "1\n",
      "2\n",
      "3\n",
      "5\n",
      "8\n",
      "13\n",
      "21\n",
      "34\n"
     ]
    }
   ],
   "source": [
    "a, b = 0, 1\n",
    "i = 0\n",
    "\n",
    "while i < 10:\n",
    "    print(a)\n",
    "    c = a+b\n",
    "    a, b = b, c\n",
    "    \n",
    "    i += 1"
   ]
  },
  {
   "cell_type": "markdown",
   "id": "3e7852ca-1cd9-4d6e-a160-5f6ff468bc3f",
   "metadata": {},
   "source": [
    "#### Q7. Write a List Comprehension to iterate through the given string: 'pwskills'.\n",
    "     Expected output:\n",
    "     `['p', 'w', 's', 'k', 'i', 'l', 'l', 's']`."
   ]
  },
  {
   "cell_type": "code",
   "execution_count": 15,
   "id": "e7a41413-7b07-44c9-ab8a-6fed012e1515",
   "metadata": {},
   "outputs": [
    {
     "data": {
      "text/plain": [
       "['p', 'w', 's', 'k', 'i', 'l', 'l', 's']"
      ]
     },
     "execution_count": 15,
     "metadata": {},
     "output_type": "execute_result"
    }
   ],
   "source": [
    "string = 'pwskills'\n",
    "[i for i in string]"
   ]
  },
  {
   "cell_type": "markdown",
   "id": "ed51a864-11e8-4259-8ad3-ec9e82417c8f",
   "metadata": {},
   "source": [
    "#### Q8. Write a python program to check whether a given number is Palindrome or not using a while loop."
   ]
  },
  {
   "cell_type": "code",
   "execution_count": 16,
   "id": "b1907d5a-9e12-4b9d-b9b1-bf330f8dc96d",
   "metadata": {},
   "outputs": [
    {
     "name": "stdout",
     "output_type": "stream",
     "text": [
      "Number is palindrome\n"
     ]
    }
   ],
   "source": [
    "def palindrome(num):\n",
    "    temp = num\n",
    "    rev = 0\n",
    "    while temp > 0:\n",
    "        dig = temp % 10\n",
    "        rev = (rev*10) + dig\n",
    "\n",
    "        temp //= 10\n",
    "\n",
    "    if num == rev:\n",
    "        print(\"Number is palindrome\")\n",
    "    else:\n",
    "        print(\"Number is NOT palindrome\")\n",
    "\n",
    "palindrome(1221)"
   ]
  },
  {
   "cell_type": "markdown",
   "id": "a9bf8a5c-d995-4fc5-be7e-6799c02dc819",
   "metadata": {},
   "source": [
    "#### Q9. Write a code to print odd numbers from 1 to 100 using list comprehension.\n",
    "      Note: Use a list comprehension to create a list from 1 to 100 and use another List comprehension to filter out odd numbers."
   ]
  },
  {
   "cell_type": "code",
   "execution_count": 17,
   "id": "2a8b999e-d101-43a3-be52-608f54e78ee3",
   "metadata": {},
   "outputs": [
    {
     "name": "stdout",
     "output_type": "stream",
     "text": [
      "[1, 3, 5, 7, 9, 11, 13, 15, 17, 19, 21, 23, 25, 27, 29, 31, 33, 35, 37, 39, 41, 43, 45, 47, 49, 51, 53, 55, 57, 59, 61, 63, 65, 67, 69, 71, 73, 75, 77, 79, 81, 83, 85, 87, 89, 91, 93, 95, 97, 99]\n"
     ]
    }
   ],
   "source": [
    "to_hundred = [i for i in range(1, 101)]\n",
    "\n",
    "print([num for num in to_hundred if num % 2 == 1])"
   ]
  },
  {
   "cell_type": "code",
   "execution_count": null,
   "id": "2d8bc78b-a651-4f8d-8302-053d9adde720",
   "metadata": {},
   "outputs": [],
   "source": []
  }
 ],
 "metadata": {
  "kernelspec": {
   "display_name": "Python 3 (ipykernel)",
   "language": "python",
   "name": "python3"
  },
  "language_info": {
   "codemirror_mode": {
    "name": "ipython",
    "version": 3
   },
   "file_extension": ".py",
   "mimetype": "text/x-python",
   "name": "python",
   "nbconvert_exporter": "python",
   "pygments_lexer": "ipython3",
   "version": "3.10.8"
  }
 },
 "nbformat": 4,
 "nbformat_minor": 5
}
