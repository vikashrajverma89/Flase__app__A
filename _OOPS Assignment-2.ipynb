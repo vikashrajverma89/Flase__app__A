{
 "cells": [
  {
   "cell_type": "markdown",
   "id": "c444c5ef-c4d9-43d5-ad6d-a7facea08636",
   "metadata": {},
   "source": [
    "## Q1. What is Abstraction in OOps? Explain with an example."
   ]
  },
  {
   "cell_type": "markdown",
   "id": "8e26a488-1a60-4481-88fc-c7907cdde872",
   "metadata": {},
   "source": [
    "Abstraction in python is defined as a process of handling complexity by hiding unnecessary information from the user. This is one of the core concepts of object-oriented programming (OOP) languages. That enables the user to implement even more complex logic on top of the provided abstraction without understanding or even thinking about all the hidden background/back-end complexity."
   ]
  },
  {
   "cell_type": "code",
   "execution_count": 3,
   "id": "721ff185-4ffd-4068-ae01-fc7a885a478d",
   "metadata": {},
   "outputs": [],
   "source": [
    "from abc import ABC, abstractmethod\n",
    "\n",
    "class Vehicle(ABC):\n",
    "    def __init__(self, name) -> None:\n",
    "        self.name = name\n",
    "        \n",
    "    def display(self):\n",
    "        return f'{self.name = }'\n",
    "    \n",
    "    @abstractmethod\n",
    "    def speed(self):\n",
    "        pass\n",
    "    \n",
    "\n",
    "class Car(Vehicle):\n",
    "    def speed(self):\n",
    "        return 40"
   ]
  },
  {
   "cell_type": "code",
   "execution_count": 4,
   "id": "2ca0874e-5079-4d55-96eb-cfc11e57ae12",
   "metadata": {},
   "outputs": [
    {
     "data": {
      "text/plain": [
       "40"
      ]
     },
     "execution_count": 4,
     "metadata": {},
     "output_type": "execute_result"
    }
   ],
   "source": [
    "car1 = Car('Car1')\n",
    "car1.speed()    "
   ]
  },
  {
   "cell_type": "markdown",
   "id": "396b07bf-f8fb-4ce3-b6e7-7d57d9be4b26",
   "metadata": {},
   "source": [
    "## Q2. Differentiate between Abstraction and Encapsulation. Explain with an example."
   ]
  },
  {
   "cell_type": "markdown",
   "id": "51566c20-c617-435b-bb8b-9338d511c438",
   "metadata": {},
   "source": [
    "Abstraction is about hiding complexity of the class, while Encapsulation is about bundling data and methods of a class."
   ]
  },
  {
   "cell_type": "code",
   "execution_count": 5,
   "id": "311337da-d609-4f25-bd0b-d7abf7b43a78",
   "metadata": {},
   "outputs": [],
   "source": [
    "class Person():\n",
    "    def __init__(self, name, age) -> None:\n",
    "        self.__name = name\n",
    "        self.__age = age\n",
    "\n",
    "    def display(self):\n",
    "        return f'{self.__name = }'\n",
    "\n",
    "    def set_name(self, name):\n",
    "        if isinstance(name, str):\n",
    "            self.__name = name\n",
    "        else:\n",
    "            raise TypeError\n",
    "\n",
    "    def get_name(self):\n",
    "        return self.__name\n",
    "\n",
    "    def set_age(self, age):\n",
    "        if isinstance(age, int):\n",
    "            self.__age = age\n",
    "        else:\n",
    "            raise TypeError\n",
    "\n",
    "    def get_age(self):\n",
    "        return self.__age"
   ]
  },
  {
   "cell_type": "code",
   "execution_count": 7,
   "id": "4cba40c7-3170-436b-96f6-a91f5ac6d226",
   "metadata": {},
   "outputs": [
    {
     "ename": "TypeError",
     "evalue": "",
     "output_type": "error",
     "traceback": [
      "\u001b[0;31m---------------------------------------------------------------------------\u001b[0m",
      "\u001b[0;31mTypeError\u001b[0m                                 Traceback (most recent call last)",
      "Cell \u001b[0;32mIn[7], line 4\u001b[0m\n\u001b[1;32m      1\u001b[0m p1 \u001b[38;5;241m=\u001b[39m Person(\u001b[38;5;124m'\u001b[39m\u001b[38;5;124mVikash\u001b[39m\u001b[38;5;124m'\u001b[39m, \u001b[38;5;241m18\u001b[39m)\n\u001b[1;32m      3\u001b[0m p1\u001b[38;5;241m.\u001b[39mset_name(\u001b[38;5;124m'\u001b[39m\u001b[38;5;124mVIkash Raj\u001b[39m\u001b[38;5;124m'\u001b[39m)\n\u001b[0;32m----> 4\u001b[0m \u001b[43mp1\u001b[49m\u001b[38;5;241;43m.\u001b[39;49m\u001b[43mset_age\u001b[49m\u001b[43m(\u001b[49m\u001b[38;5;124;43m'\u001b[39;49m\u001b[38;5;124;43mVerma\u001b[39;49m\u001b[38;5;124;43m'\u001b[39;49m\u001b[43m)\u001b[49m  \u001b[38;5;66;03m# Throw error because of the implimented condition.\u001b[39;00m\n",
      "Cell \u001b[0;32mIn[5], line 22\u001b[0m, in \u001b[0;36mPerson.set_age\u001b[0;34m(self, age)\u001b[0m\n\u001b[1;32m     20\u001b[0m     \u001b[38;5;28mself\u001b[39m\u001b[38;5;241m.\u001b[39m__age \u001b[38;5;241m=\u001b[39m age\n\u001b[1;32m     21\u001b[0m \u001b[38;5;28;01melse\u001b[39;00m:\n\u001b[0;32m---> 22\u001b[0m     \u001b[38;5;28;01mraise\u001b[39;00m \u001b[38;5;167;01mTypeError\u001b[39;00m\n",
      "\u001b[0;31mTypeError\u001b[0m: "
     ]
    }
   ],
   "source": [
    "p1 = Person('Vikash', 18)\n",
    "\n",
    "p1.set_name('VIkash Raj')\n",
    "p1.set_age('Verma')  # Throw error because of the implimented condition."
   ]
  },
  {
   "cell_type": "markdown",
   "id": "dcb0d6c9-bee4-4931-8db1-d5b10df31740",
   "metadata": {},
   "source": [
    "## Q3. What is abc module in python? Why is it used?"
   ]
  },
  {
   "cell_type": "markdown",
   "id": "2e337e6d-79b1-4e41-a49c-63e351a6716c",
   "metadata": {},
   "source": [
    "Python has a module called abc (abstract base class) that offers the necessary tools for crafting an abstract base class. First and foremost, you should understand the ABCMeta metaclass provided by the abstract base class The 'abc' module in Python library provides the infrastructure for defining custom abstract base classes.\n",
    "\n",
    "ABCMeta metaclass provides a method called register method that can be invoked by its instance. By using this register method, any abstract base class can become an ancestor of any arbitrary concrete class. Let’s understand this process by considering an example of an abstract base class that registers itself as an ancestor of dict."
   ]
  },
  {
   "cell_type": "code",
   "execution_count": 2,
   "id": "0046a4d5-b327-4627-ad2d-f90b801dcb71",
   "metadata": {},
   "outputs": [
    {
     "name": "stdout",
     "output_type": "stream",
     "text": [
      "<class 'dict'>\n"
     ]
    }
   ],
   "source": [
    "import abc\n",
    "\n",
    "\n",
    "class AbstractClass(metaclass=abc.ABCMeta):\n",
    "\tdef abstractfunc(self):\n",
    "\t\treturn None\n",
    "\n",
    "\n",
    "print(AbstractClass.register(dict))\n",
    "\n",
    "\n",
    "#Here, dict identifies itself as a subclass of AbstractClass. Let’s do a check.\n",
    "\n",
    "\n"
   ]
  },
  {
   "cell_type": "code",
   "execution_count": 3,
   "id": "21c86a13-5f02-4553-98bc-66e28195b06e",
   "metadata": {},
   "outputs": [
    {
     "name": "stdout",
     "output_type": "stream",
     "text": [
      "True\n"
     ]
    }
   ],
   "source": [
    "import abc\n",
    "\n",
    "\n",
    "class AbstractClass(metaclass=abc.ABCMeta):\n",
    "\tdef abstractfunc(self):\n",
    "\t\treturn None\n",
    "\n",
    "\n",
    "AbstractClass.register(dict)\n",
    "print(issubclass(dict, AbstractClass))\n"
   ]
  },
  {
   "cell_type": "code",
   "execution_count": 4,
   "id": "7c9e840a-f73d-49f9-8caa-1d06a4a68455",
   "metadata": {},
   "outputs": [
    {
     "name": "stdout",
     "output_type": "stream",
     "text": [
      "List instance: True\n",
      "Tuple instance: True\n",
      "Object instance: False\n"
     ]
    }
   ],
   "source": [
    "import abc\n",
    "\n",
    "\n",
    "class MySequence(metaclass=abc.ABCMeta):\n",
    "\tpass\n",
    "\n",
    "MySequence.register(list)\n",
    "MySequence.register(tuple)\n",
    "\n",
    "a = [1, 2, 3]\n",
    "b = ('x', 'y', 'z')\n",
    "\n",
    "print('List instance:', isinstance(a, MySequence))\n",
    "print('Tuple instance:', isinstance(b, MySequence))\n",
    "print('Object instance:', isinstance(object(), MySequence))\n"
   ]
  },
  {
   "cell_type": "markdown",
   "id": "53002700-bef2-4dfc-880e-556c2933a319",
   "metadata": {},
   "source": [
    "## Q4. How can we achieve data abstraction?"
   ]
  },
  {
   "cell_type": "markdown",
   "id": "24d18244-1f95-41f7-8e90-e4956efde255",
   "metadata": {},
   "source": [
    "We use television to watch shows, news or movies, etc. We use the TV remote to switch the TV ON or OFF, switch to different channels, and raise or lower the volume. The TV user only knows he/she may use the buttons on the remote to do it. What they don’t know is how all this is happening internally, for example how the TV sensor is capturing signals from the TV remote and then how it is processing the received signals to perform the required action of changing the channel, etc. All the internal functionality is hidden, as for the user it might not be necessary for them to know how that is happening.\n",
    "\n",
    "The example we saw above is one of the examples of abstraction in real life. In object-oriented programming, we shall call it ‘Data Abstraction’. Let us define data abstraction:\n",
    "\n",
    "The process by which data and functions are defined in such a way that only essential details can be seen and unnecessary implementations are hidden is called Data Abstraction.\n",
    "\n",
    "The main focus of data abstraction is to separate the interface and the implementation of the program.\n",
    "\n",
    "\n"
   ]
  },
  {
   "cell_type": "code",
   "execution_count": 10,
   "id": "12f831c8-4c57-44d1-b2c9-3a2a3ac39c41",
   "metadata": {},
   "outputs": [
    {
     "name": "stdout",
     "output_type": "stream",
     "text": [
      "Area of a Square: 25\n",
      "Area of a circle: 50.24\n"
     ]
    }
   ],
   "source": [
    "from abc import ABC\n",
    "class llgm(ABC): #abstract classdef calculate_area(self): #abstract methodpass\n",
    "    pass\n",
    "\n",
    "class Square(llgm):\n",
    "  length = 5\n",
    "  def Area(self):\n",
    "    return self.length * self.length \n",
    "\n",
    "class Circle(llgm):\n",
    "  radius =4 \n",
    "  def Area(self):\n",
    "    return 3.14 * self.radius * self.radius\n",
    "\n",
    "\n",
    "sq = Square() #object created for the class ‘Square’\n",
    "cir = Circle() #object created for the class ‘Circle’\n",
    "\n",
    "print(\"Area of a Square:\", sq.Area()) #call to ‘calculate_area’ method defined inside the class ‘Square’\n",
    "print(\"Area of a circle:\", cir.Area())"
   ]
  },
  {
   "cell_type": "code",
   "execution_count": null,
   "id": "f5c177ed-d3f7-40fb-8f55-63d719ba4ba9",
   "metadata": {},
   "outputs": [],
   "source": []
  },
  {
   "cell_type": "markdown",
   "id": "fbe73f61-c85d-4371-b7ee-44174e2bc69b",
   "metadata": {},
   "source": [
    "## Q5. Can we create an instance of an abstract class? Explain your answer."
   ]
  },
  {
   "cell_type": "markdown",
   "id": "b12e61b9-8177-4b63-850e-f3448fa222f9",
   "metadata": {},
   "source": [
    "An abstract class is a class that is declared abstract—it may or may not include abstract methods. Abstract classes cannot be instantiated, but they can be subclassed.\n",
    "\n",
    "An abstract method is a method that is declared without an implementation\n",
    "\n",
    "When an abstract class is subclassed, the subclass usually provides implementations for all of the abstract methods in its parent class. However, if it does not, then the subclass must also be declared abstract.\n",
    "\n",
    "Abstract classes are not complete, as they may have some methods that are not defined. So we cannot create an instance or object of an abstract class in Python. If we try to instantiate the abstract class, it raises an error.\n",
    "\n"
   ]
  },
  {
   "cell_type": "code",
   "execution_count": 16,
   "id": "441249d1-f22e-444a-80f7-11965d7830a9",
   "metadata": {},
   "outputs": [
    {
     "ename": "ModuleNotFoundError",
     "evalue": "No module named 'Shape'",
     "output_type": "error",
     "traceback": [
      "\u001b[0;31m---------------------------------------------------------------------------\u001b[0m",
      "\u001b[0;31mModuleNotFoundError\u001b[0m                       Traceback (most recent call last)",
      "Cell \u001b[0;32mIn[16], line 1\u001b[0m\n\u001b[0;32m----> 1\u001b[0m \u001b[38;5;28;01mfrom\u001b[39;00m \u001b[38;5;21;01mShape\u001b[39;00m \u001b[38;5;28;01mimport\u001b[39;00m Shape\n\u001b[1;32m      3\u001b[0m \u001b[38;5;28;01mtry\u001b[39;00m :\n\u001b[1;32m      4\u001b[0m     shape \u001b[38;5;241m=\u001b[39m Shape()\n",
      "\u001b[0;31mModuleNotFoundError\u001b[0m: No module named 'Shape'"
     ]
    }
   ],
   "source": [
    "from Shape import Shape\n",
    " \n",
    "try :\n",
    "    shape = Shape()\n",
    "except Exception as error:\n",
    "    print(\"===========ERROR OCCURRED===============\")\n",
    "    print(error)\n"
   ]
  },
  {
   "cell_type": "code",
   "execution_count": null,
   "id": "98f507e6-5037-4d3a-93ea-1b364a22715f",
   "metadata": {},
   "outputs": [],
   "source": []
  }
 ],
 "metadata": {
  "kernelspec": {
   "display_name": "Python 3 (ipykernel)",
   "language": "python",
   "name": "python3"
  },
  "language_info": {
   "codemirror_mode": {
    "name": "ipython",
    "version": 3
   },
   "file_extension": ".py",
   "mimetype": "text/x-python",
   "name": "python",
   "nbconvert_exporter": "python",
   "pygments_lexer": "ipython3",
   "version": "3.10.8"
  }
 },
 "nbformat": 4,
 "nbformat_minor": 5
}
