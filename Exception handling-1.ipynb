{
 "cells": [
  {
   "cell_type": "markdown",
   "id": "2f711628-976a-4962-a139-5c808f4982a3",
   "metadata": {},
   "source": [
    "#### Q1. What is an Exception in python? Write the difference between Exceptions and Syntax errors."
   ]
  },
  {
   "cell_type": "markdown",
   "id": "921b1239-afb5-41b2-ba6f-1eab37092a7a",
   "metadata": {},
   "source": [
    "Exception in pyhton -\n",
    "         An Exception is an error that happens during the execution of a program. Whenever there is an error, Python generates an exception that could be handled. It basically prevents the program from getting crashed.\n",
    "         \n",
    "         \n",
    "A syntax error occurs when the structure of a program does not conform to the rules of the programming language. Syntax errors are usually detected by the compiler or interpreter when the program is being compiled or executed, and they prevent the program from running. Syntax errors are usually caused by mistakes in the source code, such as typos, omissions, or incorrect use of syntax.\n",
    "\n",
    "An exception is an abnormal event that occurs during the execution of a program. Exceptions are usually caused by runtime errors, such as dividing by zero, trying to access an element in an array with an out-of-bounds index, or trying to access a file that does not exist. Exceptions are not syntax errors, but they can still prevent the program from running if they are not handled properly."
   ]
  },
  {
   "cell_type": "markdown",
   "id": "18a13422-2da8-4967-83ae-791e17ba31fe",
   "metadata": {},
   "source": [
    "#### Q2. What happens when an exception is not handled? Explain with an example."
   ]
  },
  {
   "cell_type": "markdown",
   "id": "38268edd-25d7-4a59-bc5a-9f72be3fd646",
   "metadata": {},
   "source": [
    "the runtime system will abort the program (i.e. crash) and an exception message will print to the console"
   ]
  },
  {
   "cell_type": "code",
   "execution_count": 2,
   "id": "9e427d9c-89c9-4f8f-b5a0-b3840d1df11f",
   "metadata": {},
   "outputs": [
    {
     "name": "stdout",
     "output_type": "stream",
     "text": [
      "Error occurred.\n",
      "Executing finally block\n",
      "Out of try, except, else and finally blocks.\n"
     ]
    }
   ],
   "source": [
    "try:\n",
    "  x,y = 10, \"xyz\"\n",
    "  z=x/y\n",
    "except ZeroDivisionError:\n",
    "  print(\"except ZeroDivisionError block\")\n",
    "  print(\"Division by 0 not accepted\")\n",
    "except:\n",
    "  print('Error occurred.')\n",
    "else:\n",
    "  print(\"Division = \", z)\n",
    "finally:\n",
    "  print(\"Executing finally block\")\n",
    "  x=0\n",
    "  y=0\n",
    "print (\"Out of try, except, else and finally blocks.\" )"
   ]
  },
  {
   "cell_type": "markdown",
   "id": "6c74a204-6aac-4fdc-bff6-5e84b40e2a05",
   "metadata": {},
   "source": [
    "#### Q3. Which Python statements are used to catch and handle exceptions? Explain with an example.\n"
   ]
  },
  {
   "cell_type": "markdown",
   "id": "cd59afd4-5f93-4d95-aa33-baaa5bc2cf97",
   "metadata": {},
   "source": [
    "TRY AND EXCEPT BLOCK ARE USE TO HANDLE EXCEPTIONS "
   ]
  },
  {
   "cell_type": "code",
   "execution_count": 13,
   "id": "49a66184-939f-45e2-8571-4564fd38c88a",
   "metadata": {},
   "outputs": [
    {
     "name": "stdout",
     "output_type": "stream",
     "text": [
      "thhis my exception handling\n"
     ]
    }
   ],
   "source": [
    "try :\n",
    "    f = open(\"NOsuChFile.txt\" , 'r')\n",
    "except Exception:\n",
    "    print(\"thhis my exception handling\")"
   ]
  },
  {
   "cell_type": "markdown",
   "id": "17e58032-b7e0-44c1-b3b2-056639e949f5",
   "metadata": {},
   "source": [
    "#### Q4. Explain with an example:\n",
    "  a. try and except\n",
    "  \n",
    "  \n",
    "  b.finally\n",
    "  \n",
    "  c.raise"
   ]
  },
  {
   "cell_type": "code",
   "execution_count": 14,
   "id": "7756bc05-8ddb-4354-94a2-0b3b4ea3715d",
   "metadata": {},
   "outputs": [
    {
     "name": "stdout",
     "output_type": "stream",
     "text": [
      "this is my except block for no such file in the directery\n"
     ]
    }
   ],
   "source": [
    "# TRY AND EXCEPT\n",
    "\n",
    "\n",
    "#TRY AND EXCEPTION BLOCK ARE USED IN PYTHON FOR EXCEPTION HANDLING IF TRY BLOCK HAVE ANY ERROR THAN EXCEPT BLOCK WILL RUN OTHERWISE ONLY TRY BLOCK WILL\n",
    "try :\n",
    "    f = open(\"file.json\" ,'r')\n",
    "except Exception:\n",
    "    print(\"this is my except block for no such file in the directery\")"
   ]
  },
  {
   "cell_type": "code",
   "execution_count": 15,
   "id": "a223dce7-807d-47bc-916c-aefaaa6fd8e1",
   "metadata": {},
   "outputs": [],
   "source": [
    "\n",
    "try :\n",
    "    f = open(\"assignment.txt\" , 'w')\n",
    "except :\n",
    "    print(\"this is my message if try block have any error\")"
   ]
  },
  {
   "cell_type": "code",
   "execution_count": 17,
   "id": "02077bc6-aa55-4362-9c16-740fd416df4e",
   "metadata": {},
   "outputs": [
    {
     "name": "stdout",
     "output_type": "stream",
     "text": [
      "Nothing went wrong\n",
      "The try...except block is finished\n"
     ]
    }
   ],
   "source": [
    "# FINALLY \n",
    "#The finally keyword is used in try...except blocks. It defines a block of code to run when the try...except...else block is final.\n",
    "#The finally block will be executed no matter if the try block raises an error or not.\n",
    "#This can be useful to close objects and clean up resources.\n",
    "\n",
    "try :\n",
    "    x>3\n",
    "except :\n",
    "    print(\"Something went wrong\")\n",
    "else :\n",
    "    print(\"Nothing went wrong\")\n",
    "finally:\n",
    "    print(\"The try...except block is finished\") \n",
    "    \n"
   ]
  },
  {
   "cell_type": "code",
   "execution_count": 18,
   "id": "45f7eac1-350a-431a-8587-9fe3fff3b4cf",
   "metadata": {},
   "outputs": [
    {
     "name": "stdout",
     "output_type": "stream",
     "text": [
      "this will run anyways\n"
     ]
    }
   ],
   "source": [
    "#LET'S SEE ANOTHER EXAMPLE WHEN TRY BLOCK DOES'NT HAVE ERROR\n",
    "\n",
    "try:\n",
    "    f = open(\"assignment.txt\" , 'r')\n",
    "except :\n",
    "    print(\"there is no such file\")\n",
    "finally:\n",
    "    print(\"this will run anyways\")"
   ]
  },
  {
   "cell_type": "code",
   "execution_count": 23,
   "id": "a18dc0e1-7920-4628-85ec-d6c51af78b16",
   "metadata": {},
   "outputs": [
    {
     "ename": "TypeError",
     "evalue": "Only integers are allowed",
     "output_type": "error",
     "traceback": [
      "\u001b[0;31m---------------------------------------------------------------------------\u001b[0m",
      "\u001b[0;31mTypeError\u001b[0m                                 Traceback (most recent call last)",
      "Cell \u001b[0;32mIn[23], line 11\u001b[0m\n\u001b[1;32m      8\u001b[0m x \u001b[38;5;241m=\u001b[39m \u001b[38;5;124m\"\u001b[39m\u001b[38;5;124mhello\u001b[39m\u001b[38;5;124m\"\u001b[39m\n\u001b[1;32m     10\u001b[0m \u001b[38;5;28;01mif\u001b[39;00m \u001b[38;5;129;01mnot\u001b[39;00m \u001b[38;5;28mtype\u001b[39m(x) \u001b[38;5;129;01mis\u001b[39;00m \u001b[38;5;28mint\u001b[39m:\n\u001b[0;32m---> 11\u001b[0m     \u001b[38;5;28;01mraise\u001b[39;00m \u001b[38;5;167;01mTypeError\u001b[39;00m(\u001b[38;5;124m\"\u001b[39m\u001b[38;5;124mOnly integers are allowed\u001b[39m\u001b[38;5;124m\"\u001b[39m) \n",
      "\u001b[0;31mTypeError\u001b[0m: Only integers are allowed"
     ]
    }
   ],
   "source": [
    "#Raise\n",
    "#As a Python developer you can choose to throw an exception if a condition occurs.\n",
    "#The raise keyword is used to raise an exception.\n",
    "\n",
    "# we can define what kind of error to raise, and the text to print to the user.\n",
    "\n",
    "#To throw (or raise) an exception, we use the raise keyword.\n",
    "x = \"hello\"\n",
    "\n",
    "if not type(x) is int:\n",
    "    raise TypeError(\"Only integers are allowed\") "
   ]
  },
  {
   "cell_type": "markdown",
   "id": "b69cb1ec-e8e4-4362-8a16-a5510d979821",
   "metadata": {},
   "source": [
    "#### Q5. What are Custom Exceptions in python? Why do we need Custom Exceptions? Explain with an example."
   ]
  },
  {
   "cell_type": "code",
   "execution_count": 24,
   "id": "857b8d19-926b-4b6a-904a-2f7882770120",
   "metadata": {},
   "outputs": [],
   "source": [
    "#In Python, we can define custom exceptions by creating a new class that is derived from the built-in Exception class."
   ]
  },
  {
   "cell_type": "code",
   "execution_count": 5,
   "id": "6b186c8e-051c-4a80-8f9d-27835330b7f9",
   "metadata": {},
   "outputs": [],
   "source": [
    "#We need custom Exception beacause they provide meaningful error messages and to handle specific error conditions in a more controlled way."
   ]
  },
  {
   "cell_type": "code",
   "execution_count": 7,
   "id": "c7583128-c7eb-4050-b2a3-ffe8c3d74333",
   "metadata": {},
   "outputs": [],
   "source": [
    "#Example: Raising a custom exception for low account balance.\n",
    "          #raising a custom exception for neagtive age"
   ]
  },
  {
   "cell_type": "code",
   "execution_count": 1,
   "id": "e7ef94cc-b170-4ed1-91aa-7b66c473faf4",
   "metadata": {},
   "outputs": [],
   "source": [
    "class validateage(Exception):\n",
    "    \n",
    "    def __int__(self , msg) :\n",
    "        self.msg = msg"
   ]
  },
  {
   "cell_type": "code",
   "execution_count": 2,
   "id": "82a274af-6333-4686-9384-09281dc4d469",
   "metadata": {},
   "outputs": [],
   "source": [
    "def validaetage(age) :\n",
    "    if age < 0 :\n",
    "        raise validateage(\"entered age is negative\")\n",
    "    elif age > 200 :\n",
    "        raise validateage(\"entered age is very very high\")\n",
    "    else :\n",
    "        print(\"age is valid\")"
   ]
  },
  {
   "cell_type": "code",
   "execution_count": 10,
   "id": "47ff7d22-53e1-4266-bf2d-a2ace48d441d",
   "metadata": {},
   "outputs": [
    {
     "name": "stdin",
     "output_type": "stream",
     "text": [
      "entered your age -24\n"
     ]
    },
    {
     "name": "stdout",
     "output_type": "stream",
     "text": [
      "entered age is negative\n"
     ]
    }
   ],
   "source": [
    "try :\n",
    "    age = int(input(\"entered your age\"))\n",
    "    validaetage(age)\n",
    "except validateage as e :\n",
    "    print(e)"
   ]
  },
  {
   "cell_type": "markdown",
   "id": "ea5f43ac-b32c-4e5b-827f-eca6cfedf9c9",
   "metadata": {},
   "source": [
    "### Q6. Create a custom exception class. Use this class to handle an exception."
   ]
  },
  {
   "cell_type": "code",
   "execution_count": 4,
   "id": "f90a8a7c-aee3-4352-82f8-b4faab7b2389",
   "metadata": {},
   "outputs": [
    {
     "name": "stdout",
     "output_type": "stream",
     "text": [
      "Insufficient balance in your account.\n",
      "Withdrawn: 50\n",
      "Remaining balance: 50\n"
     ]
    }
   ],
   "source": [
    "class InsufficientBalanceError(Exception):\n",
    "    def __init__(self, *args: object) -> None:\n",
    "        super().__init__(*args)\n",
    "\n",
    "class Account:\n",
    "    def __init__(self, balance):\n",
    "        self.balance = balance\n",
    "        \n",
    "    def withdraw(self, amount):\n",
    "        if self.balance < amount:\n",
    "            raise InsufficientBalanceError(\"Insufficient balance in your account.\")\n",
    "        self.balance -= amount\n",
    "        print(\"Withdrawn:\", amount)\n",
    "        print(\"Remaining balance:\", self.balance)\n",
    "\n",
    "a = Account(100)\n",
    "try:\n",
    "    a.withdraw(200)\n",
    "except InsufficientBalanceError as e:\n",
    "    print(e)\n",
    "finally:\n",
    "    a.withdraw(50)"
   ]
  },
  {
   "cell_type": "code",
   "execution_count": null,
   "id": "85616431-a354-470f-a0dc-604369d3a7be",
   "metadata": {},
   "outputs": [],
   "source": []
  }
 ],
 "metadata": {
  "kernelspec": {
   "display_name": "Python 3 (ipykernel)",
   "language": "python",
   "name": "python3"
  },
  "language_info": {
   "codemirror_mode": {
    "name": "ipython",
    "version": 3
   },
   "file_extension": ".py",
   "mimetype": "text/x-python",
   "name": "python",
   "nbconvert_exporter": "python",
   "pygments_lexer": "ipython3",
   "version": "3.10.8"
  }
 },
 "nbformat": 4,
 "nbformat_minor": 5
}
